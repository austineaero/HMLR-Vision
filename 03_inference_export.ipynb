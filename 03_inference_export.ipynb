{
 "cells": [
  {
   "cell_type": "code",
   "execution_count": 0,
   "metadata": {
    "application/vnd.databricks.v1+cell": {
     "cellMetadata": {
      "byteLimit": 2048000,
      "rowLimit": 10000
     },
     "inputWidgets": {},
     "nuid": "6c36e07f-6d55-4258-8eea-1d2a200d0cbe",
     "showTitle": false,
     "tableResultSettingsMap": {},
     "title": ""
    }
   },
   "outputs": [],
   "source": [
    "# %pip install -q -r requirements.txt"
   ]
  },
  {
   "cell_type": "code",
   "execution_count": 0,
   "metadata": {
    "application/vnd.databricks.v1+cell": {
     "cellMetadata": {
      "byteLimit": 2048000,
      "rowLimit": 10000
     },
     "inputWidgets": {},
     "nuid": "ba943cc0-2a0d-4f57-b622-7ac1fa3e6dd5",
     "showTitle": false,
     "tableResultSettingsMap": {},
     "title": ""
    }
   },
   "outputs": [],
   "source": [
    "import cv2\n",
    "import numpy as np\n",
    "import torch\n",
    "import matplotlib.pyplot as plt\n",
    "from torch.utils.data import DataLoader\n",
    "import easyocr\n",
    "\n",
    "from src.data_loader import SingleImageDataset, VAL_TRANSFORM\n",
    "from src.unet_model import load_unet, infer_masks\n",
    "from src.geo_export import export_geopackage\n",
    "from src.mask_utils import hsv_red_mask, postprocess_boundary_mask, extract_red_text_regions\n",
    "\n",
    "# Load original image (RGB, not BGR)\n",
    "img_path = \"data/stockton_1.png\"\n",
    "img = cv2.imread(img_path)\n",
    "img_rgb = cv2.cvtColor(img, cv2.COLOR_BGR2RGB)\n",
    "orig_h, orig_w = img.shape[:2]\n",
    "\n",
    "# Prepare dataset for UNet inference (single image)\n",
    "dataset = SingleImageDataset(\n",
    "    img_path,\n",
    "    mask_path=None,\n",
    "    transform=VAL_TRANSFORM,\n",
    ")\n",
    "dataloader = DataLoader(dataset, batch_size=1)\n",
    "\n",
    "# Load model (should match training settings)\n",
    "device = \"cuda\" if torch.cuda.is_available() else \"cpu\"\n",
    "model = load_unet(\n",
    "    \"checkpoints/unet_last.pt\",\n",
    "    classes=3, in_channels=3, device=device\n",
    ")\n",
    "\n",
    "# UNet prediction\n",
    "boundary_512, text_512 = infer_masks(model, dataloader, device)\n",
    "# Resize predictions to original size\n",
    "scale = lambda m: cv2.resize(m, (orig_w, orig_h), cv2.INTER_NEAREST)\n",
    "boundary_mask = scale(boundary_512)\n",
    "text_mask = scale(text_512)\n",
    "\n",
    "# POST-PROCESS BOUNDARY: Keep only areas that are red (HSV), remove noise\n",
    "red_hsv_mask = hsv_red_mask(img_rgb)\n",
    "boundary_mask = np.logical_and(boundary_mask, red_hsv_mask).astype(np.uint8)\n",
    "boundary_mask = postprocess_boundary_mask(boundary_mask, min_size=100)\n",
    "\n",
    "# OCR ON STRICTLY RED TEXT REGIONS ONLY\n",
    "text_mask, red_text_bboxes = extract_red_text_regions(img_rgb, min_area=30)\n",
    "\n",
    "reader = easyocr.Reader(['en'], gpu=(device=='cuda'))\n",
    "img_with_ocr = img_rgb.copy()\n",
    "ocr_results = []\n",
    "for (x, y, w, h) in red_text_bboxes:\n",
    "    roi = img_rgb[y:y+h, x:x+w]\n",
    "    result = reader.readtext(roi)\n",
    "    if result:\n",
    "        text = result[0][1]\n",
    "        # Draw bounding box and text for visualization\n",
    "        cv2.rectangle(img_with_ocr, (x, y), (x+w, y+h), (0,0,255), 2)\n",
    "        cv2.putText(img_with_ocr, text, (x, y-5), cv2.FONT_HERSHEY_SIMPLEX, 1.1, (0,0,255), 2)\n",
    "        ocr_results.append((x, y, w, h, text))\n",
    "    else:\n",
    "        ocr_results.append((x, y, w, h, \"\"))\n",
    "\n",
    "# EXPORT GEO DATA\n",
    "export_geopackage(boundary_mask, text_mask, orig_w, orig_h, \"output/segments.gpkg\", text_labels=[t[-1] for t in ocr_results])"
   ]
  },
  {
   "cell_type": "code",
   "execution_count": 0,
   "metadata": {
    "application/vnd.databricks.v1+cell": {
     "cellMetadata": {
      "byteLimit": 2048000,
      "rowLimit": 10000
     },
     "inputWidgets": {},
     "nuid": "7c01ea8d-3006-497d-87e3-d032def1d996",
     "showTitle": false,
     "tableResultSettingsMap": {},
     "title": ""
    }
   },
   "outputs": [],
   "source": [
    "# --- VISUALISATION: original | boundary (mask) | text with OCR ---\n",
    "plt.figure(figsize=(18,6))\n",
    "plt.subplot(1,3,1)\n",
    "plt.title(\"Original\")\n",
    "plt.imshow(img_rgb)\n",
    "plt.axis('off')\n",
    "\n",
    "plt.subplot(1,3,2)\n",
    "plt.title(\"Predicted Boundary Mask (HSV-filtered)\")\n",
    "plt.imshow(boundary_mask, cmap='gray')\n",
    "plt.axis('off')\n",
    "\n",
    "plt.subplot(1,3,3)\n",
    "plt.title(\"Text with OCR (Red Only)\")\n",
    "plt.imshow(img_with_ocr)\n",
    "plt.axis('off')\n",
    "\n",
    "plt.tight_layout()\n",
    "plt.show()"
   ]
  },
  {
   "cell_type": "code",
   "execution_count": 0,
   "metadata": {
    "application/vnd.databricks.v1+cell": {
     "cellMetadata": {},
     "inputWidgets": {},
     "nuid": "abe9916c-88fd-4b7a-a000-8f77e8fc775f",
     "showTitle": false,
     "tableResultSettingsMap": {},
     "title": ""
    }
   },
   "outputs": [],
   "source": []
  }
 ],
 "metadata": {
  "application/vnd.databricks.v1+notebook": {
   "computePreferences": null,
   "dashboards": [],
   "environmentMetadata": {
    "base_environment": "",
    "environment_version": "2"
   },
   "inputWidgetPreferences": null,
   "language": "python",
   "notebookMetadata": {
    "pythonIndentUnit": 4
   },
   "notebookName": "03_inference_export",
   "widgets": {}
  },
  "language_info": {
   "name": "python"
  }
 },
 "nbformat": 4,
 "nbformat_minor": 0
}
