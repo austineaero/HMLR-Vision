{
 "cells": [
  {
   "cell_type": "code",
   "execution_count": 0,
   "metadata": {
    "application/vnd.databricks.v1+cell": {
     "cellMetadata": {
      "byteLimit": 2048000,
      "rowLimit": 10000
     },
     "inputWidgets": {},
     "nuid": "6c36e07f-6d55-4258-8eea-1d2a200d0cbe",
     "showTitle": false,
     "tableResultSettingsMap": {},
     "title": ""
    }
   },
   "outputs": [],
   "source": [
    "# %pip install -q -r requirements.txt"
   ]
  },
  {
   "cell_type": "code",
   "execution_count": 0,
   "metadata": {
    "application/vnd.databricks.v1+cell": {
     "cellMetadata": {
      "byteLimit": 2048000,
      "rowLimit": 10000
     },
     "inputWidgets": {},
     "nuid": "ba943cc0-2a0d-4f57-b622-7ac1fa3e6dd5",
     "showTitle": false,
     "tableResultSettingsMap": {},
     "title": ""
    }
   },
   "outputs": [],
   "source": [
    "import cv2, torch, matplotlib.pyplot as plt\n",
    "from src.data_loader import SingleImageDataset, VAL_TRANSFORM\n",
    "from src.unet_model import load_unet, infer_masks\n",
    "from src.geo_export import export_geopackage\n",
    "from src.mask_utils import hsv_red_mask\n",
    "from torch.utils.data import DataLoader\n",
    "import easyocr\n",
    "import numpy as np\n",
    "\n",
    "img_path = \"data/stockton_1.png\"\n",
    "img = cv2.cvtColor(cv2.imread(img_path), cv2.COLOR_BGR2RGB)\n",
    "orig_h, orig_w = img.shape[:2]\n",
    "\n",
    "dataset = SingleImageDataset(\n",
    "    img_path,\n",
    "    mask_path=None,\n",
    "    transform=VAL_TRANSFORM\n",
    ")\n",
    "dataloader = DataLoader(dataset, batch_size=1)\n",
    "\n",
    "device = \"cuda\" if torch.cuda.is_available() else \"cpu\"\n",
    "model = load_unet(\n",
    "    \"checkpoints/unet_last.pt\",\n",
    "    classes=3, in_channels=3, device=device\n",
    ")\n",
    "\n",
    "boundary_mask, text_mask = infer_masks(model, dataloader, device)\n",
    "\n",
    "# Upscale model outputs back to original size\n",
    "orig_h, orig_w = img.shape[:2]\n",
    "scale = lambda m: cv2.resize(m, (orig_w, orig_h), interpolation=cv2.INTER_NEAREST)\n",
    "boundary_mask = scale(boundary_mask)\n",
    "text_mask = scale(text_mask)\n",
    "\n",
    "# Optional: HSV filtering to remove false positives for boundaries\n",
    "red_mask = hsv_red_mask(img)\n",
    "boundary_mask = np.logical_and(boundary_mask, red_mask).astype(np.uint8)\n",
    "\n",
    "# OCR on text regions\n",
    "reader = easyocr.Reader(['en'])\n",
    "contours, _ = cv2.findContours(text_mask, cv2.RETR_EXTERNAL, cv2.CHAIN_APPROX_SIMPLE)\n",
    "img_with_ocr = img.copy()\n",
    "text_labels = []\n",
    "for cnt in contours:\n",
    "    x, y, w, h = cv2.boundingRect(cnt)\n",
    "    roi = img[y:y+h, x:x+w]\n",
    "    result = reader.readtext(roi)\n",
    "    text = result[0][1] if result else \"\"\n",
    "    text_labels.append(text)\n",
    "    if text:\n",
    "        cv2.putText(img_with_ocr, text, (x, y+h//2), cv2.FONT_HERSHEY_SIMPLEX, 1.1, (0,0,255), 3)\n",
    "\n",
    "# Export geopackage\n",
    "export_geopackage(boundary_mask, text_mask, orig_w, orig_h, \"output/segments.gpkg\", text_labels=text_labels)\n",
    "\n",
    "# Visualize all side-by-side\n",
    "plt.figure(figsize=(18,6))\n",
    "plt.subplot(1,3,1); plt.title(\"Original\"); plt.imshow(img); plt.axis('off')\n",
    "plt.subplot(1,3,2); plt.title(\"Predicted Boundary Mask (HSV-filtered)\");\n",
    "plt.imshow(boundary_mask, cmap=\"gray\"); plt.axis('off')\n",
    "plt.subplot(1,3,3); plt.title(\"Text with OCR\");\n",
    "plt.imshow(img_with_ocr); plt.axis('off')\n",
    "plt.tight_layout()\n",
    "plt.show()"
   ]
  },
  {
   "cell_type": "code",
   "execution_count": 0,
   "metadata": {
    "application/vnd.databricks.v1+cell": {
     "cellMetadata": {},
     "inputWidgets": {},
     "nuid": "7c01ea8d-3006-497d-87e3-d032def1d996",
     "showTitle": false,
     "tableResultSettingsMap": {},
     "title": ""
    }
   },
   "outputs": [],
   "source": []
  }
 ],
 "metadata": {
  "application/vnd.databricks.v1+notebook": {
   "computePreferences": null,
   "dashboards": [],
   "environmentMetadata": {
    "base_environment": "",
    "environment_version": "2"
   },
   "inputWidgetPreferences": null,
   "language": "python",
   "notebookMetadata": {
    "pythonIndentUnit": 4
   },
   "notebookName": "03_inference_export",
   "widgets": {}
  },
  "language_info": {
   "name": "python"
  }
 },
 "nbformat": 4,
 "nbformat_minor": 0
}
