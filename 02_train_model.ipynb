{
 "cells": [
  {
   "cell_type": "code",
   "execution_count": 0,
   "metadata": {
    "application/vnd.databricks.v1+cell": {
     "cellMetadata": {
      "byteLimit": 2048000,
      "rowLimit": 10000
     },
     "inputWidgets": {},
     "nuid": "cac8c3a0-c4b2-4085-b6f9-701ea6e28f46",
     "showTitle": false,
     "tableResultSettingsMap": {},
     "title": ""
    }
   },
   "outputs": [],
   "source": [
    "# %pip install -q -r requirements.txt"
   ]
  },
  {
   "cell_type": "code",
   "execution_count": 0,
   "metadata": {
    "application/vnd.databricks.v1+cell": {
     "cellMetadata": {
      "byteLimit": 2048000,
      "rowLimit": 10000
     },
     "inputWidgets": {},
     "nuid": "0410408a-2f03-482e-9492-3fc438ba4236",
     "showTitle": false,
     "tableResultSettingsMap": {},
     "title": ""
    }
   },
   "outputs": [],
   "source": [
    "import torch\n",
    "from torch.utils.data import DataLoader\n",
    "from src.data_loader import SingleImageDataset, TRAIN_TRANSFORM\n",
    "from src.unet_model import build_unet, train_unet, load_unet, evaluate_unet\n",
    "import random, numpy as np"
   ]
  },
  {
   "cell_type": "code",
   "execution_count": 0,
   "metadata": {
    "application/vnd.databricks.v1+cell": {
     "cellMetadata": {
      "byteLimit": 2048000,
      "rowLimit": 10000
     },
     "inputWidgets": {},
     "nuid": "723b4aa2-5fd6-4a83-9c62-4dfed8f4df24",
     "showTitle": false,
     "tableResultSettingsMap": {},
     "title": ""
    }
   },
   "outputs": [],
   "source": [
    "def set_seed(seed=42):\n",
    "    random.seed(seed)\n",
    "    np.random.seed(seed)\n",
    "    torch.manual_seed(seed)\n",
    "    torch.cuda.manual_seed_all(seed)\n",
    "set_seed(42)\n",
    "\n",
    "device = torch.device(\"cuda\" if torch.cuda.is_available() else \"cpu\")\n",
    "\n",
    "dataset = SingleImageDataset(\n",
    "    \"data/stockton_1.png\",\n",
    "    mask_path=\"data/stockton_1_mask.png\",\n",
    "    transform=TRAIN_TRANSFORM\n",
    ")\n",
    "dataloader = DataLoader(dataset, batch_size=1)\n",
    "\n",
    "model = build_unet(classes=3, in_channels=3)\n",
    "model, epoch_losses = train_unet(\n",
    "    model, dataloader, device,\n",
    "    epochs=30,\n",
    "    save_path=\"checkpoints/unet_last.pt\"\n",
    ")"
   ]
  },
  {
   "cell_type": "code",
   "execution_count": 0,
   "metadata": {
    "application/vnd.databricks.v1+cell": {
     "cellMetadata": {
      "byteLimit": 2048000,
      "rowLimit": 10000
     },
     "inputWidgets": {},
     "nuid": "d61b274f-ec26-4731-bcdb-dff0aed89276",
     "showTitle": false,
     "tableResultSettingsMap": {},
     "title": ""
    }
   },
   "outputs": [],
   "source": [
    "import matplotlib.pyplot as plt\n",
    "\n",
    "plt.plot(range(1, len(epoch_losses)+1), epoch_losses, marker='o')\n",
    "plt.title(\"Training Loss Over Epochs\")\n",
    "plt.xlabel(\"Epoch\")\n",
    "plt.ylabel(\"CrossEntropy Loss\")\n",
    "plt.grid()\n",
    "plt.show()"
   ]
  },
  {
   "cell_type": "code",
   "execution_count": 0,
   "metadata": {
    "application/vnd.databricks.v1+cell": {
     "cellMetadata": {
      "byteLimit": 2048000,
      "rowLimit": 10000
     },
     "inputWidgets": {},
     "nuid": "f5e410eb-1f1b-4f07-bef2-255df4bd8236",
     "showTitle": false,
     "tableResultSettingsMap": {},
     "title": ""
    }
   },
   "outputs": [],
   "source": [
    "# Set device and load saved model weights\n",
    "device = torch.device(\"cuda\" if torch.cuda.is_available() else \"cpu\")\n",
    "model  = load_unet(\n",
    "    \"checkpoints/unet_last.pt\",\n",
    "    classes=3,            # 0-bg, 1-boundary, 2-text\n",
    "    in_channels=3,\n",
    "    device=device\n",
    ")\n",
    "# Build a dataset/loader with the same transform as training\n",
    "\n",
    "eval_dataset = SingleImageDataset(\n",
    "    \"data/stockton_1.png\",\n",
    "    mask_path=\"data/stockton_1_mask.png\",\n",
    "    transform=TRAIN_TRANSFORM   \n",
    ")\n",
    "eval_loader  = DataLoader(eval_dataset, batch_size=1, shuffle=False)\n",
    "\n",
    "# Compute metrics\n",
    "acc, ious = evaluate_unet(model, eval_loader, device, num_classes=3)\n",
    "\n",
    "print(f\"Pixel Accuracy      : {acc:.3f}\")\n",
    "print(f\"IoU  (background  ) : {ious[0]:.3f}\")\n",
    "print(f\"IoU  (boundary    ) : {ious[1]:.3f}\")\n",
    "print(f\"IoU  (text        ) : {ious[2]:.3f}\")\n"
   ]
  },
  {
   "cell_type": "code",
   "execution_count": 0,
   "metadata": {
    "application/vnd.databricks.v1+cell": {
     "cellMetadata": {},
     "inputWidgets": {},
     "nuid": "c40c13c4-cf48-4fa0-b587-dc1a94c1d9ad",
     "showTitle": false,
     "tableResultSettingsMap": {},
     "title": ""
    }
   },
   "outputs": [],
   "source": []
  }
 ],
 "metadata": {
  "application/vnd.databricks.v1+notebook": {
   "computePreferences": null,
   "dashboards": [],
   "environmentMetadata": {
    "base_environment": "",
    "environment_version": "2"
   },
   "inputWidgetPreferences": null,
   "language": "python",
   "notebookMetadata": {
    "pythonIndentUnit": 4
   },
   "notebookName": "02_train_model",
   "widgets": {}
  },
  "language_info": {
   "name": "python"
  }
 },
 "nbformat": 4,
 "nbformat_minor": 0
}
